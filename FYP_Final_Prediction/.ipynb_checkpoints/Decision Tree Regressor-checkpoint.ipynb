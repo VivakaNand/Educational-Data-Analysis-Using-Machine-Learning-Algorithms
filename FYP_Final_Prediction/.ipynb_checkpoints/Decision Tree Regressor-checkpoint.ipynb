{
 "cells": [
  {
   "cell_type": "code",
   "execution_count": 8,
   "metadata": {},
   "outputs": [],
   "source": [
    "import pandas as pd \n",
    "import numpy as np\n",
    "import matplotlib.pyplot as plt\n",
    "from sklearn import tree\n",
    "\n",
    "from sklearn.model_selection import train_test_split\n",
    "from sklearn.tree import DecisionTreeRegressor\n",
    "from sklearn.metrics import accuracy_score\n",
    "from matplotlib import rcParams\n",
    "import seaborn as sb\n",
    "%matplotlib inline\n",
    "rcParams['figure.figsize']=10,8\n",
    "sb.set_style('whitegrid')\n"
   ]
  },
  {
   "cell_type": "code",
   "execution_count": 9,
   "metadata": {},
   "outputs": [
    {
     "name": "stdout",
     "output_type": "stream",
     "text": [
      "    classification  resource  place_of_study  sleep_time  \\\n",
      "0                1         3               4           7   \n",
      "1                2         2               1           4   \n",
      "2                2         3               4          10   \n",
      "3                1         1               4           7   \n",
      "4                3         2               4           7   \n",
      "5                2         4               1           7   \n",
      "6                1         3               3          10   \n",
      "7                2         2               4          10   \n",
      "8                1         2               3           4   \n",
      "9                1         2               1           7   \n",
      "10               1         3               4           4   \n",
      "11               1         6               1           7   \n",
      "12               1         3               4           7   \n",
      "13               1         3               3           4   \n",
      "14               1         2               4          10   \n",
      "15               1         2               6           7   \n",
      "16               1         3               2           7   \n",
      "17               2         4               1           4   \n",
      "18               3         3               1          10   \n",
      "19               1         5               4           7   \n",
      "20               1         3               4          10   \n",
      "21               1         6               4           7   \n",
      "22               3         3               4           7   \n",
      "23               2         3               4           7   \n",
      "24               3         2               3           7   \n",
      "25               1         3               4          10   \n",
      "26               1         1               4           7   \n",
      "27               1         5               4           7   \n",
      "28               2         2               4           7   \n",
      "29               1         3               1           7   \n",
      "30               2         3               4           4   \n",
      "31               1         3               4           7   \n",
      "32               2         2               1           4   \n",
      "33               2         3               4          10   \n",
      "34               1         1               1           7   \n",
      "35               1         1               4           7   \n",
      "36               3         2               4           7   \n",
      "37               2         4               1           7   \n",
      "38               1         3               3          10   \n",
      "39               2         2               4          10   \n",
      "40               1         2               3           4   \n",
      "41               1         2               1           7   \n",
      "42               1         3               4           4   \n",
      "43               1         6               1           7   \n",
      "44               1         3               4           7   \n",
      "45               1         3               3           4   \n",
      "46               1         2               4          10   \n",
      "47               1         2               6           7   \n",
      "48               1         3               2           7   \n",
      "49               2         4               1           4   \n",
      "\n",
      "    time_spend_on_social_media  SSC  HSC  attendance  self_study  GPA  \n",
      "0                          1.5   70   65        90.5           8  3.3  \n",
      "1                          4.0   70   70        70.5           8  3.3  \n",
      "2                          4.0   70   65        70.5           8  3.3  \n",
      "3                          7.5   90   65        90.5           3  3.8  \n",
      "4                          0.5   90   90        90.5           3  3.3  \n",
      "5                          7.5   90   70        90.5           3  3.3  \n",
      "6                          1.5   70   70        70.5           3  2.0  \n",
      "7                          0.5   70   65        50.5          13  2.0  \n",
      "8                          7.5   70   70        70.5           3  2.7  \n",
      "9                          1.5   65   70        90.5           8  2.7  \n",
      "10                         1.5   70   90        90.5          18  3.8  \n",
      "11                         7.5   70   70        90.5          13  3.8  \n",
      "12                         1.5   70   70        90.5          18  3.8  \n",
      "13                         4.0   90   65        90.5           8  3.3  \n",
      "14                         7.5   70   70        90.5           3  3.3  \n",
      "15                         4.0   65   65        90.5           3  3.8  \n",
      "16                         4.0   90   70        90.5          18  3.8  \n",
      "17                         0.5   70   65        90.5           3  3.3  \n",
      "18                         0.5   90   90        90.5          13  2.7  \n",
      "19                         1.5   90   70        70.5           8  2.7  \n",
      "20                         7.5   70   65        70.5           3  2.7  \n",
      "21                         4.0   70   70        70.5           8  3.3  \n",
      "22                         1.5   70   70        90.5          13  3.3  \n",
      "23                         4.0   90   70        70.5           3  3.3  \n",
      "24                         4.0   70   70        50.5           3  3.3  \n",
      "25                         1.5   70   70        70.5           8  2.0  \n",
      "26                         4.0   70   70        70.5           8  2.7  \n",
      "27                         4.0   90   70        70.5           8  3.8  \n",
      "28                         4.0   90   70        70.5           8  3.8  \n",
      "29                         4.0   90   70        70.5          18  3.3  \n",
      "30                         1.5   70   70        90.5           8  3.8  \n",
      "31                         1.5   70   65        90.5           8  3.3  \n",
      "32                         4.0   70   70        70.5           8  3.3  \n",
      "33                         4.0   70   65        70.5           8  3.3  \n",
      "34                         1.5   65   65        90.5          13  2.0  \n",
      "35                         7.5   90   65        90.5           3  3.8  \n",
      "36                         0.5   90   90        90.5           3  3.3  \n",
      "37                         7.5   90   70        90.5           3  3.3  \n",
      "38                         1.5   70   70        70.5           3  2.0  \n",
      "39                         0.5   70   65        50.5          13  2.0  \n",
      "40                         7.5   70   70        70.5           3  2.7  \n",
      "41                         1.5   65   70        90.5           8  2.0  \n",
      "42                         1.5   70   90        90.5          18  3.8  \n",
      "43                         7.5   70   70        90.5          13  3.8  \n",
      "44                         1.5   70   70        90.5          18  3.8  \n",
      "45                         4.0   90   65        90.5           8  3.3  \n",
      "46                         7.5   70   70        90.5           3  3.3  \n",
      "47                         4.0   65   65        90.5           3  3.8  \n",
      "48                         4.0   90   70        90.5          18  3.8  \n",
      "49                         0.5   70   65        90.5           3  3.3  \n"
     ]
    }
   ],
   "source": [
    "df=pd.read_csv('C:/Users/Vivek Vishan Jetani/Desktop/vivek.csv')\n",
    "print((df.head(50)))\n"
   ]
  },
  {
   "cell_type": "code",
   "execution_count": 10,
   "metadata": {},
   "outputs": [],
   "source": [
    "X=df.values[:,0:9]\n",
    "Y=df.values[:,9]\n",
    "X_train,X_test,y_train,y_test=train_test_split(X,Y,random_state=0,test_size=0.1)"
   ]
  },
  {
   "cell_type": "code",
   "execution_count": 11,
   "metadata": {},
   "outputs": [
    {
     "data": {
      "text/plain": [
       "DecisionTreeRegressor(criterion='mse', max_depth=None, max_features=None,\n",
       "           max_leaf_nodes=None, min_impurity_decrease=0.0,\n",
       "           min_impurity_split=None, min_samples_leaf=1,\n",
       "           min_samples_split=2, min_weight_fraction_leaf=0.0,\n",
       "           presort=False, random_state=None, splitter='best')"
      ]
     },
     "execution_count": 11,
     "metadata": {},
     "output_type": "execute_result"
    }
   ],
   "source": [
    "Regressor=DecisionTreeRegressor()\n",
    "Regressor.fit(X_train,y_train)\n"
   ]
  },
  {
   "cell_type": "code",
   "execution_count": 12,
   "metadata": {},
   "outputs": [
    {
     "data": {
      "text/plain": [
       "array([3.3 , 3.3 , 3.8 , 3.3 , 3.3 , 3.8 , 3.8 , 3.8 , 3.3 , 3.3 , 3.8 ,\n",
       "       3.8 , 2.9 , 3.3 , 2.  , 3.3 , 3.3 , 3.8 , 3.3 , 3.8 , 2.7 , 3.8 ,\n",
       "       3.8 , 3.8 , 3.3 , 3.3 , 3.8 , 3.3 , 3.25, 2.7 , 3.3 , 3.3 , 3.8 ,\n",
       "       2.  , 3.8 , 3.3 , 3.3 , 3.8 , 3.8 , 2.7 , 3.8 , 3.3 , 3.8 , 2.  ])"
      ]
     },
     "execution_count": 12,
     "metadata": {},
     "output_type": "execute_result"
    }
   ],
   "source": [
    "y_pred_en=Regressor.predict(X_test)\n",
    "y_pred_en"
   ]
  },
  {
   "cell_type": "code",
   "execution_count": 14,
   "metadata": {},
   "outputs": [
    {
     "ename": "SyntaxError",
     "evalue": "unexpected EOF while parsing (<ipython-input-14-3d603c047c6f>, line 1)",
     "output_type": "error",
     "traceback": [
      "\u001b[1;36m  File \u001b[1;32m\"<ipython-input-14-3d603c047c6f>\"\u001b[1;36m, line \u001b[1;32m1\u001b[0m\n\u001b[1;33m    accuracy_score(X,Y*100\u001b[0m\n\u001b[1;37m                          ^\u001b[0m\n\u001b[1;31mSyntaxError\u001b[0m\u001b[1;31m:\u001b[0m unexpected EOF while parsing\n"
     ]
    }
   ],
   "source": [
    "accuracy_score(X,Y*100"
   ]
  },
  {
   "cell_type": "code",
   "execution_count": null,
   "metadata": {},
   "outputs": [],
   "source": [
    "#Regressor.predict([[4,7.5,1,30.5,3]])"
   ]
  },
  {
   "cell_type": "code",
   "execution_count": null,
   "metadata": {},
   "outputs": [],
   "source": [
    "#Regressor.predict([[0,0,65,65,0,0,0,30.5,3]])"
   ]
  },
  {
   "cell_type": "code",
   "execution_count": null,
   "metadata": {},
   "outputs": [],
   "source": [
    "#Regressor.predict([[0,0,65,65,0,0,0,30.5,3]])"
   ]
  },
  {
   "cell_type": "code",
   "execution_count": null,
   "metadata": {},
   "outputs": [],
   "source": [
    "#Regressor.predict([[1,0,65,65,0,0,0,30.5,3]])"
   ]
  },
  {
   "cell_type": "code",
   "execution_count": null,
   "metadata": {},
   "outputs": [],
   "source": [
    "#Regressor.predict([[0,1,65,65,0,0,0,30.5,3]])"
   ]
  },
  {
   "cell_type": "code",
   "execution_count": null,
   "metadata": {},
   "outputs": [],
   "source": [
    "#Regressor.predict([[0,0,70,65,0,0,0,30.5,3]])"
   ]
  },
  {
   "cell_type": "code",
   "execution_count": null,
   "metadata": {},
   "outputs": [],
   "source": [
    "#Regressor.predict([[0,0,65,70,0,0,0,30.5,3]])#"
   ]
  },
  {
   "cell_type": "code",
   "execution_count": null,
   "metadata": {},
   "outputs": [],
   "source": [
    "#Regressor.predict([[0,0,65,65,1,0,0,30.5,3]])"
   ]
  },
  {
   "cell_type": "code",
   "execution_count": null,
   "metadata": {},
   "outputs": [],
   "source": [
    "#Regressor.predict([[0,0,65,65,0,1,0,30.5,3]])"
   ]
  },
  {
   "cell_type": "code",
   "execution_count": null,
   "metadata": {},
   "outputs": [],
   "source": [
    "#Regressor.predict([[0,0,65,65,0,0,1,30.5,3]])"
   ]
  },
  {
   "cell_type": "code",
   "execution_count": null,
   "metadata": {},
   "outputs": [],
   "source": [
    "#Regressor.predict([[0,0,65,65,0,0,0,50.5,3]])"
   ]
  },
  {
   "cell_type": "code",
   "execution_count": null,
   "metadata": {},
   "outputs": [],
   "source": [
    "#Regressor.predict([[0,0,65,65,0,0,0,30.5,8]])"
   ]
  },
  {
   "cell_type": "code",
   "execution_count": null,
   "metadata": {},
   "outputs": [],
   "source": [
    "#Regressor.predict([[0,0,90,65,0,0,0,30.5,3]])"
   ]
  },
  {
   "cell_type": "code",
   "execution_count": null,
   "metadata": {},
   "outputs": [],
   "source": [
    "#Regressor.predict([[0,0,65,90,0,0,0,30.5,3]])"
   ]
  },
  {
   "cell_type": "code",
   "execution_count": null,
   "metadata": {},
   "outputs": [],
   "source": [
    "#Regressor.predict([[0,0,65,65,2,0,0,30.5,3]])"
   ]
  },
  {
   "cell_type": "code",
   "execution_count": null,
   "metadata": {},
   "outputs": [],
   "source": [
    "#Regressor.predict([[0,0,65,65,0,2,0,30.5,3]])"
   ]
  },
  {
   "cell_type": "code",
   "execution_count": null,
   "metadata": {},
   "outputs": [],
   "source": [
    "#Regressor.predict([[0,0,65,65,0,0,2,30.5,3]])"
   ]
  },
  {
   "cell_type": "code",
   "execution_count": null,
   "metadata": {},
   "outputs": [],
   "source": [
    "#Regressor.predict([[0,0,65,65,0,0,0,70.5,3]])"
   ]
  },
  {
   "cell_type": "code",
   "execution_count": null,
   "metadata": {},
   "outputs": [],
   "source": [
    "#Regressor.predict([[0,0,65,65,0,0,0,30.5,8]])"
   ]
  },
  {
   "cell_type": "code",
   "execution_count": null,
   "metadata": {},
   "outputs": [],
   "source": [
    "#Regressor.predict([[0,0,65,65,0,0,0,30.5,3]])"
   ]
  },
  {
   "cell_type": "code",
   "execution_count": null,
   "metadata": {},
   "outputs": [],
   "source": [
    "#Regressor.predict([[0,0,70,65,0,0,0,30.5,3]])"
   ]
  },
  {
   "cell_type": "code",
   "execution_count": null,
   "metadata": {},
   "outputs": [],
   "source": [
    "#Regressor.predict([[0,0,65,65,0,0,0,30.5,3]])"
   ]
  },
  {
   "cell_type": "code",
   "execution_count": null,
   "metadata": {},
   "outputs": [],
   "source": [
    "#Regressor.predict([[0,0,65,65,0,0,0,30.5,3]])"
   ]
  },
  {
   "cell_type": "code",
   "execution_count": null,
   "metadata": {},
   "outputs": [],
   "source": []
  },
  {
   "cell_type": "code",
   "execution_count": null,
   "metadata": {},
   "outputs": [],
   "source": []
  },
  {
   "cell_type": "code",
   "execution_count": null,
   "metadata": {},
   "outputs": [],
   "source": [
    "#d=pd.read_csv(\"Prediction.csv\")\n",
    "#d\n"
   ]
  },
  {
   "cell_type": "code",
   "execution_count": null,
   "metadata": {},
   "outputs": [],
   "source": [
    "#p=Regressor.predict(d)\n",
    "#print(p)"
   ]
  },
  {
   "cell_type": "code",
   "execution_count": null,
   "metadata": {},
   "outputs": [],
   "source": [
    "#d['Predicted_GPA']=p"
   ]
  },
  {
   "cell_type": "code",
   "execution_count": null,
   "metadata": {},
   "outputs": [],
   "source": [
    "#d.to_csv(\"DTR_Prediction.csv\",index=False)"
   ]
  },
  {
   "cell_type": "code",
   "execution_count": null,
   "metadata": {},
   "outputs": [],
   "source": [
    "#Regressor.score(X,y)*100"
   ]
  },
  {
   "cell_type": "code",
   "execution_count": null,
   "metadata": {},
   "outputs": [],
   "source": []
  },
  {
   "cell_type": "code",
   "execution_count": null,
   "metadata": {},
   "outputs": [],
   "source": []
  },
  {
   "cell_type": "code",
   "execution_count": null,
   "metadata": {},
   "outputs": [],
   "source": []
  },
  {
   "cell_type": "code",
   "execution_count": null,
   "metadata": {},
   "outputs": [],
   "source": []
  }
 ],
 "metadata": {
  "kernelspec": {
   "display_name": "Python 3",
   "language": "python",
   "name": "python3"
  },
  "language_info": {
   "codemirror_mode": {
    "name": "ipython",
    "version": 3
   },
   "file_extension": ".py",
   "mimetype": "text/x-python",
   "name": "python",
   "nbconvert_exporter": "python",
   "pygments_lexer": "ipython3",
   "version": "3.6.4"
  }
 },
 "nbformat": 4,
 "nbformat_minor": 2
}
