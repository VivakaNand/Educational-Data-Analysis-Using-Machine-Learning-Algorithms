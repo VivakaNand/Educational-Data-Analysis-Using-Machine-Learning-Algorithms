{
 "cells": [
  {
   "cell_type": "code",
   "execution_count": 13,
   "metadata": {},
   "outputs": [],
   "source": [
    "import pandas as pd\n",
    "import numpy as np\n",
    "from sklearn.preprocessing import Imputer\n",
    "from sklearn.ensemble import RandomForestClassifier, RandomForestRegressor, ExtraTreesRegressor, GradientBoostingRegressor\n",
    "from sklearn.cross_validation import train_test_split\n",
    "from sklearn.metrics import accuracy_score\n",
    "from sklearn import tree\n"
   ]
  },
  {
   "cell_type": "code",
   "execution_count": 14,
   "metadata": {},
   "outputs": [
    {
     "name": "stdout",
     "output_type": "stream",
     "text": [
      "354\n",
      "   gender  Category  SSC  HSC  classification  resource  place_of_study  \\\n",
      "0       1         0   70   65               0         1               3   \n",
      "1       1         1   70   70               1         5               0   \n",
      "2       1         1   70   65               1         1               3   \n",
      "3       1         0   90   65               0         3               3   \n",
      "4       1         1   90   90               2         5               3   \n",
      "\n",
      "   attendance  self_study  GPA  \n",
      "0        90.5           8  3.3  \n",
      "1        70.5           8  3.3  \n",
      "2        70.5           8  3.3  \n",
      "3        90.5           3  3.8  \n",
      "4        90.5           3  3.3  \n"
     ]
    }
   ],
   "source": [
    "df=pd.read_csv('C:/Users/Vivek Vishan Jetani/Desktop/vivek.csv')\n",
    "print(len(df))\n",
    "def handle_non_numerical_data(df):\n",
    "    columns=df.columns.values\n",
    "    \n",
    "    for column in columns:\n",
    "        text_digit_vals={}\n",
    "        def convert_to_int(val):\n",
    "            return text_digit_vals[val]\n",
    "        \n",
    "        if df[column].dtype !=np.int64 and df[column].dtype !=np.float64:\n",
    "            column_contents=df[column].values.tolist()\n",
    "            unique_elements=set(column_contents)\n",
    "            x=0\n",
    "\n",
    "            for unique in unique_elements:\n",
    "                if unique not in text_digit_vals:\n",
    "                    text_digit_vals[unique]=x\n",
    "                    x+=1\n",
    "            df[column]=list(map(convert_to_int, df[column]))\n",
    "    return df\n",
    "df=handle_non_numerical_data(df)\n",
    "print(df.head())"
   ]
  },
  {
   "cell_type": "code",
   "execution_count": 75,
   "metadata": {},
   "outputs": [],
   "source": [
    "X=df.iloc[:,0:9]\n",
    "y=df.iloc[:,9]\n",
    "X_train,X_test,y_train,y_test=train_test_split(X,y,random_state=0,test_size=0.2)\n"
   ]
  },
  {
   "cell_type": "code",
   "execution_count": 76,
   "metadata": {},
   "outputs": [
    {
     "data": {
      "text/plain": [
       "RandomForestRegressor(bootstrap=True, criterion='mse', max_depth=None,\n",
       "           max_features='auto', max_leaf_nodes=None,\n",
       "           min_impurity_decrease=0.0, min_impurity_split=None,\n",
       "           min_samples_leaf=1, min_samples_split=2,\n",
       "           min_weight_fraction_leaf=0.0, n_estimators=10, n_jobs=1,\n",
       "           oob_score=False, random_state=None, verbose=0, warm_start=False)"
      ]
     },
     "execution_count": 76,
     "metadata": {},
     "output_type": "execute_result"
    }
   ],
   "source": [
    "Regressor=RandomForestRegressor()\n",
    "Regressor.fit(X,y)"
   ]
  },
  {
   "cell_type": "code",
   "execution_count": 77,
   "metadata": {},
   "outputs": [
    {
     "data": {
      "text/plain": [
       "array([2.6025    , 2.78      , 2.64333333, 3.8       , 3.8       ,\n",
       "       3.4       , 3.53      , 3.75      , 3.048     , 3.7       ,\n",
       "       2.945     , 3.8       , 2.44      , 2.74      , 2.43      ,\n",
       "       2.81      , 3.23      , 3.55333333, 3.62083333, 2.6325    ,\n",
       "       2.82      , 3.35      , 3.3       , 3.3       , 3.12      ,\n",
       "       3.3       , 3.8       , 3.03      , 3.64333333, 3.4375    ,\n",
       "       3.69      , 2.86      , 2.7       , 3.29      , 3.3       ,\n",
       "       3.09      , 3.65      , 3.12333333, 2.13      , 3.42      ,\n",
       "       2.7       , 2.93      , 2.98      , 3.14      , 3.4       ,\n",
       "       3.0735    , 3.3       , 3.69      , 3.35      , 3.35      ,\n",
       "       3.75      , 2.829     , 3.35      , 3.29      , 2.        ,\n",
       "       3.3       , 2.93      , 3.24      , 2.75      , 3.62083333,\n",
       "       3.8       , 3.45      , 3.17      , 3.3       , 2.69583333,\n",
       "       2.74      , 3.8       , 3.3       , 3.8       , 2.85      ,\n",
       "       3.3       ])"
      ]
     },
     "execution_count": 77,
     "metadata": {},
     "output_type": "execute_result"
    }
   ],
   "source": [
    "y_pred=Regressor.predict(X_test)\n",
    "y_pred"
   ]
  },
  {
   "cell_type": "code",
   "execution_count": 78,
   "metadata": {},
   "outputs": [
    {
     "data": {
      "text/plain": [
       "array([2.74])"
      ]
     },
     "execution_count": 78,
     "metadata": {},
     "output_type": "execute_result"
    }
   ],
   "source": [
    "Regressor.predict([[0,0,65,65,0,0,0,30.5,3]])"
   ]
  },
  {
   "cell_type": "code",
   "execution_count": 79,
   "metadata": {},
   "outputs": [
    {
     "data": {
      "text/plain": [
       "77.83690540822663"
      ]
     },
     "execution_count": 79,
     "metadata": {},
     "output_type": "execute_result"
    }
   ],
   "source": [
    "Regressor.score(X,y)*100"
   ]
  },
  {
   "cell_type": "code",
   "execution_count": 19,
   "metadata": {},
   "outputs": [],
   "source": [
    "#d=pd.read_csv(\"Prediction.csv\")\n",
    "#d"
   ]
  },
  {
   "cell_type": "code",
   "execution_count": 9,
   "metadata": {},
   "outputs": [],
   "source": [
    "#p=Regressor.predict(d)"
   ]
  },
  {
   "cell_type": "code",
   "execution_count": 10,
   "metadata": {},
   "outputs": [],
   "source": [
    "#d['Predicted_GPA']=p"
   ]
  },
  {
   "cell_type": "code",
   "execution_count": 11,
   "metadata": {},
   "outputs": [],
   "source": [
    "#d.to_csv(\"RFR_Prediction.csv\",index=False)"
   ]
  },
  {
   "cell_type": "code",
   "execution_count": null,
   "metadata": {},
   "outputs": [],
   "source": [
    "\n"
   ]
  },
  {
   "cell_type": "code",
   "execution_count": null,
   "metadata": {},
   "outputs": [],
   "source": []
  }
 ],
 "metadata": {
  "kernelspec": {
   "display_name": "Python 3",
   "language": "python",
   "name": "python3"
  },
  "language_info": {
   "codemirror_mode": {
    "name": "ipython",
    "version": 3
   },
   "file_extension": ".py",
   "mimetype": "text/x-python",
   "name": "python",
   "nbconvert_exporter": "python",
   "pygments_lexer": "ipython3",
   "version": "3.6.4"
  }
 },
 "nbformat": 4,
 "nbformat_minor": 2
}
