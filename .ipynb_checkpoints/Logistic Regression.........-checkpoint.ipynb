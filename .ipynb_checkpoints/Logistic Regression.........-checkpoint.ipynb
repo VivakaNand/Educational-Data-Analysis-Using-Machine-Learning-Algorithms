{
 "cells": [
  {
   "cell_type": "code",
   "execution_count": 2,
   "metadata": {},
   "outputs": [
    {
     "ename": "ValueError",
     "evalue": "could not convert string to float: 'Category'",
     "output_type": "error",
     "traceback": [
      "\u001b[1;31m---------------------------------------------------------------------------\u001b[0m",
      "\u001b[1;31mValueError\u001b[0m                                Traceback (most recent call last)",
      "\u001b[1;32m<ipython-input-2-ccec167a30ee>\u001b[0m in \u001b[0;36m<module>\u001b[1;34m()\u001b[0m\n\u001b[0;32m     44\u001b[0m \u001b[1;33m\u001b[0m\u001b[0m\n\u001b[0;32m     45\u001b[0m \u001b[0mtrainingX\u001b[0m\u001b[1;33m=\u001b[0m\u001b[0mtrainingSet\u001b[0m\u001b[1;33m[\u001b[0m\u001b[1;33m:\u001b[0m\u001b[1;33m,\u001b[0m\u001b[1;33m[\u001b[0m\u001b[1;36m0\u001b[0m\u001b[1;33m,\u001b[0m\u001b[1;36m1\u001b[0m\u001b[1;33m,\u001b[0m\u001b[1;36m2\u001b[0m\u001b[1;33m,\u001b[0m\u001b[1;36m3\u001b[0m\u001b[1;33m,\u001b[0m\u001b[1;36m4\u001b[0m\u001b[1;33m,\u001b[0m\u001b[1;36m5\u001b[0m\u001b[1;33m,\u001b[0m\u001b[1;36m6\u001b[0m\u001b[1;33m,\u001b[0m\u001b[1;36m7\u001b[0m\u001b[1;33m]\u001b[0m\u001b[1;33m]\u001b[0m\u001b[1;33m\u001b[0m\u001b[0m\n\u001b[1;32m---> 46\u001b[1;33m \u001b[0mtrainingX\u001b[0m\u001b[1;33m=\u001b[0m\u001b[0mtrainingX\u001b[0m\u001b[1;33m.\u001b[0m\u001b[0mastype\u001b[0m\u001b[1;33m(\u001b[0m\u001b[0mfloat\u001b[0m\u001b[1;33m)\u001b[0m\u001b[1;33m\u001b[0m\u001b[0m\n\u001b[0m\u001b[0;32m     47\u001b[0m \u001b[0mtrainingY\u001b[0m\u001b[1;33m=\u001b[0m\u001b[0mtrainingSet\u001b[0m\u001b[1;33m[\u001b[0m\u001b[1;33m:\u001b[0m\u001b[1;33m,\u001b[0m\u001b[1;33m[\u001b[0m\u001b[1;36m8\u001b[0m\u001b[1;33m]\u001b[0m\u001b[1;33m]\u001b[0m\u001b[1;33m\u001b[0m\u001b[0m\n\u001b[0;32m     48\u001b[0m \u001b[1;33m\u001b[0m\u001b[0m\n",
      "\u001b[1;31mValueError\u001b[0m: could not convert string to float: 'Category'"
     ]
    }
   ],
   "source": [
    "import numpy as np\n",
    "from numpy import genfromtxt\n",
    "from sklearn import linear_model\n",
    "file=genfromtxt(\"C:/Users/Vivek Vishan Jetani/Desktop/vivek.csv\", delimiter=\",\", dtype=\"str\")\n",
    "#print(file)\n",
    "dic={}\n",
    "count=1\n",
    "for val in file:\n",
    "    if val[0] not in dic:\n",
    "        dic[val[0]]= count\n",
    "        count+=1\n",
    "for val in file:\n",
    "    val[0]=dic[val[0]]\n",
    "    \n",
    "count=1\n",
    "for val in file:\n",
    "    if val[3] not in dic:\n",
    "        dic[val[3]]= count\n",
    "        count+=1\n",
    "for val in file:\n",
    "    val[3]=dic[val[3]]\n",
    "\n",
    "count=1\n",
    "for val in file:\n",
    "    if val[4] not in dic:\n",
    "        dic[val[4]]= count\n",
    "        count+=1\n",
    "for val in file:\n",
    "    val[4]=dic[val[4]]\n",
    "\n",
    "count=1\n",
    "for val in file:\n",
    "    if val[5] not in dic:\n",
    "        dic[val[5]]= count\n",
    "        count+=1\n",
    "for val in file:\n",
    "    val[5]=dic[val[5]]\n",
    "\n",
    "\n",
    "   \n",
    "    \n",
    "trainingSet=file[:340]\n",
    "testingSet=file[340:]\n",
    "\n",
    "trainingX=trainingSet[:,[0,1,2,3,4,5,6,7]]\n",
    "trainingX=trainingX.astype(float)\n",
    "trainingY=trainingSet[:,[8]]\n",
    "\n",
    "testingX=testingSet[:,[0,1,2,3,4,5,6,7]]\n",
    "testingX=testingX.astype(float)\n",
    "testingY=testingSet[:,[8]]\n",
    "\n",
    "lr=linear_model.LogisticRegression()\n",
    "\n",
    "\n",
    "lr.fit(trainingX, trainingY)\n",
    "\n",
    "pred=lr.predict([[0,90,90,0,1,1,90.5,3]])\n",
    "\n",
    "print(\"Predicted Value is\"+ str(pred))\n",
    "\n",
    "print('\\n',  dic)\n",
    "lr.score(testingX, testingY)*100\n",
    "\n"
   ]
  },
  {
   "cell_type": "code",
   "execution_count": null,
   "metadata": {},
   "outputs": [],
   "source": []
  },
  {
   "cell_type": "code",
   "execution_count": null,
   "metadata": {},
   "outputs": [],
   "source": []
  },
  {
   "cell_type": "code",
   "execution_count": null,
   "metadata": {},
   "outputs": [],
   "source": []
  },
  {
   "cell_type": "code",
   "execution_count": null,
   "metadata": {},
   "outputs": [],
   "source": []
  }
 ],
 "metadata": {
  "kernelspec": {
   "display_name": "Python 3",
   "language": "python",
   "name": "python3"
  },
  "language_info": {
   "codemirror_mode": {
    "name": "ipython",
    "version": 3
   },
   "file_extension": ".py",
   "mimetype": "text/x-python",
   "name": "python",
   "nbconvert_exporter": "python",
   "pygments_lexer": "ipython3",
   "version": "3.6.4"
  }
 },
 "nbformat": 4,
 "nbformat_minor": 2
}
