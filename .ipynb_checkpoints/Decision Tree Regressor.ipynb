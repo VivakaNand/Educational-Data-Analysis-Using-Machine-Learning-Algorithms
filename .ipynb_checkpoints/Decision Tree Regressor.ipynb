{
 "cells": [
  {
   "cell_type": "code",
   "execution_count": 1,
   "metadata": {},
   "outputs": [
    {
     "name": "stderr",
     "output_type": "stream",
     "text": [
      "C:\\Users\\Vivek Vishan Jetani\\AppData\\Local\\Continuum\\anaconda3\\lib\\site-packages\\sklearn\\cross_validation.py:41: DeprecationWarning: This module was deprecated in version 0.18 in favor of the model_selection module into which all the refactored classes and functions are moved. Also note that the interface of the new CV iterators are different from that of this module. This module will be removed in 0.20.\n",
      "  \"This module will be removed in 0.20.\", DeprecationWarning)\n"
     ]
    }
   ],
   "source": [
    "import pandas as pd \n",
    "import numpy as np\n",
    "import matplotlib.pyplot as plt\n",
    "from numpy import genfromtxt\n",
    "\n",
    "from sklearn.cross_validation import train_test_split\n",
    "from sklearn.preprocessing import StandardScaler\n",
    "from sklearn.tree import DecisionTreeRegressor\n",
    "from sklearn.metrics import accuracy_score\n"
   ]
  },
  {
   "cell_type": "code",
   "execution_count": 21,
   "metadata": {},
   "outputs": [
    {
     "name": "stdout",
     "output_type": "stream",
     "text": [
      "    gender Category  SSC  HSC   classification  \\\n",
      "0     Male    Rural   70   65       Government   \n",
      "1     Male    Urban   70   70          Private   \n",
      "2     Male    Urban   70   65          Private   \n",
      "3     Male    Rural   90   65       Government   \n",
      "4     Male    Urban   90   90  Semi-Government   \n",
      "5     Male    Rural   90   70          Private   \n",
      "6     Male    Rural   70   70       Government   \n",
      "7   Female    Urban   70   65          Private   \n",
      "8     Male    Rural   70   70       Government   \n",
      "9     Male    Urban   65   70       Government   \n",
      "10  Female    Urban   70   90       Government   \n",
      "11    Male    Rural   70   70       Government   \n",
      "12    Male    Rural   70   70       Government   \n",
      "13    Male    Urban   90   65       Government   \n",
      "14    Male    Urban   70   70       Government   \n",
      "15    Male    Urban   65   65       Government   \n",
      "16    Male    Urban   90   70       Government   \n",
      "17    Male    Urban   70   65          Private   \n",
      "18    Male    Urban   90   90  Semi-Government   \n",
      "19    Male    Rural   90   70       Government   \n",
      "20    Male    Rural   70   65       Government   \n",
      "21    Male    Urban   70   70       Government   \n",
      "22    Male    Rural   70   70  Semi-Government   \n",
      "23    Male    Rural   90   70          Private   \n",
      "24    Male    Rural   70   70  Semi-Government   \n",
      "25    Male    Rural   70   70       Government   \n",
      "26    Male    Urban   70   70       Government   \n",
      "27  Female    Urban   90   70       Government   \n",
      "28  Female    Urban   90   70          Private   \n",
      "29  Female    Urban   90   70       Government   \n",
      "30    Male    Urban   70   70          Private   \n",
      "31    Male    Rural   70   65       Government   \n",
      "32    Male    Urban   70   70          Private   \n",
      "33    Male    Urban   70   65          Private   \n",
      "34    Male    Rural   65   65       Government   \n",
      "35    Male    Rural   90   65       Government   \n",
      "36    Male    Urban   90   90  Semi-Government   \n",
      "37    Male    Rural   90   70          Private   \n",
      "38    Male    Rural   70   70       Government   \n",
      "39  Female    Urban   70   65          Private   \n",
      "40    Male    Rural   70   70       Government   \n",
      "41    Male    Urban   65   70       Government   \n",
      "42  Female    Urban   70   90       Government   \n",
      "43    Male    Rural   70   70       Government   \n",
      "44    Male    Rural   70   70       Government   \n",
      "45    Male    Urban   90   65       Government   \n",
      "46    Male    Urban   70   70       Government   \n",
      "47    Male    Urban   65   65       Government   \n",
      "48    Male    Urban   90   70       Government   \n",
      "49    Male    Urban   70   65          Private   \n",
      "\n",
      "                                  resource         place_of_study  attendance  \\\n",
      "0                              All of them                   Home        90.5   \n",
      "1                                 Internet                Library        70.5   \n",
      "2                              All of them                   Home        70.5   \n",
      "3                   Notes given by teacher                   Home        90.5   \n",
      "4                                 Internet                   Home        90.5   \n",
      "5                                    Books                Library        90.5   \n",
      "6                              All of them  Hostel/Friend's Place        70.5   \n",
      "7                                 Internet                   Home        50.5   \n",
      "8                                 Internet  Hostel/Friend's Place        70.5   \n",
      "9                                 Internet                Library        90.5   \n",
      "10                             All of them                   Home        90.5   \n",
      "11  Notes prepare by yourself from lecture                Library        90.5   \n",
      "12                             All of them                   Home        90.5   \n",
      "13                             All of them  Hostel/Friend's Place        90.5   \n",
      "14                                Internet                   Home        90.5   \n",
      "15                                Internet                    Lab        90.5   \n",
      "16                             All of them         Library & Home        90.5   \n",
      "17                                   Books                Library        90.5   \n",
      "18                             All of them                Library        90.5   \n",
      "19                          Research Paper                   Home        70.5   \n",
      "20                             All of them                   Home        70.5   \n",
      "21  Notes prepare by yourself from lecture                   Home        70.5   \n",
      "22                             All of them                   Home        90.5   \n",
      "23                             All of them                   Home        70.5   \n",
      "24                                Internet  Hostel/Friend's Place        50.5   \n",
      "25                             All of them                   Home        70.5   \n",
      "26                  Notes given by teacher                   Home        70.5   \n",
      "27                          Research Paper                   Home        70.5   \n",
      "28                                Internet                   Home        70.5   \n",
      "29                             All of them                Library        70.5   \n",
      "30                             All of them                   Home        90.5   \n",
      "31                             All of them                   Home        90.5   \n",
      "32                                Internet                Library        70.5   \n",
      "33                             All of them                   Home        70.5   \n",
      "34                  Notes given by teacher                Library        90.5   \n",
      "35                  Notes given by teacher                   Home        90.5   \n",
      "36                                Internet                   Home        90.5   \n",
      "37                                   Books                Library        90.5   \n",
      "38                             All of them  Hostel/Friend's Place        70.5   \n",
      "39                                Internet                   Home        50.5   \n",
      "40                                Internet  Hostel/Friend's Place        70.5   \n",
      "41                                Internet                Library        90.5   \n",
      "42                             All of them                   Home        90.5   \n",
      "43  Notes prepare by yourself from lecture                Library        90.5   \n",
      "44                             All of them                   Home        90.5   \n",
      "45                             All of them  Hostel/Friend's Place        90.5   \n",
      "46                                Internet                   Home        90.5   \n",
      "47                                Internet                    Lab        90.5   \n",
      "48                             All of them         Library & Home        90.5   \n",
      "49                                   Books                Library        90.5   \n",
      "\n",
      "    self_study  GPA  \n",
      "0            8  3.3  \n",
      "1            8  3.3  \n",
      "2            8  3.3  \n",
      "3            3  3.8  \n",
      "4            3  3.3  \n",
      "5            3  3.3  \n",
      "6            3  2.0  \n",
      "7           13  2.0  \n",
      "8            3  2.7  \n",
      "9            8  2.7  \n",
      "10          15  3.8  \n",
      "11          13  3.8  \n",
      "12          15  3.8  \n",
      "13           8  3.3  \n",
      "14           3  3.3  \n",
      "15           3  3.8  \n",
      "16          15  3.8  \n",
      "17           3  3.3  \n",
      "18          13  2.7  \n",
      "19           8  2.7  \n",
      "20           3  2.7  \n",
      "21           8  3.3  \n",
      "22          13  3.3  \n",
      "23           3  3.3  \n",
      "24           3  3.3  \n",
      "25           8  2.0  \n",
      "26           8  2.7  \n",
      "27           8  3.8  \n",
      "28           8  3.8  \n",
      "29          15  3.3  \n",
      "30           8  3.8  \n",
      "31           8  3.3  \n",
      "32           8  3.3  \n",
      "33           8  3.3  \n",
      "34          13  2.0  \n",
      "35           3  3.8  \n",
      "36           3  3.3  \n",
      "37           3  3.3  \n",
      "38           3  2.0  \n",
      "39          13  2.0  \n",
      "40           3  2.7  \n",
      "41           8  2.0  \n",
      "42          15  3.8  \n",
      "43          13  3.8  \n",
      "44          15  3.8  \n",
      "45           8  3.3  \n",
      "46           3  3.3  \n",
      "47           3  3.8  \n",
      "48          15  3.8  \n",
      "49           3  3.3  \n",
      "    gender  Category  SSC  HSC  classification  resource  place_of_study  \\\n",
      "0        0         0   70   65               2         3               4   \n",
      "1        0         1   70   70               0         2               1   \n",
      "2        0         1   70   65               0         3               4   \n",
      "3        0         0   90   65               2         1               4   \n",
      "4        0         1   90   90               1         2               4   \n",
      "5        0         0   90   70               0         4               1   \n",
      "6        0         0   70   70               2         3               3   \n",
      "7        1         1   70   65               0         2               4   \n",
      "8        0         0   70   70               2         2               3   \n",
      "9        0         1   65   70               2         2               1   \n",
      "10       1         1   70   90               2         3               4   \n",
      "11       0         0   70   70               2         0               1   \n",
      "12       0         0   70   70               2         3               4   \n",
      "13       0         1   90   65               2         3               3   \n",
      "14       0         1   70   70               2         2               4   \n",
      "15       0         1   65   65               2         2               0   \n",
      "16       0         1   90   70               2         3               2   \n",
      "17       0         1   70   65               0         4               1   \n",
      "18       0         1   90   90               1         3               1   \n",
      "19       0         0   90   70               2         5               4   \n",
      "20       0         0   70   65               2         3               4   \n",
      "21       0         1   70   70               2         0               4   \n",
      "22       0         0   70   70               1         3               4   \n",
      "23       0         0   90   70               0         3               4   \n",
      "24       0         0   70   70               1         2               3   \n",
      "25       0         0   70   70               2         3               4   \n",
      "26       0         1   70   70               2         1               4   \n",
      "27       1         1   90   70               2         5               4   \n",
      "28       1         1   90   70               0         2               4   \n",
      "29       1         1   90   70               2         3               1   \n",
      "30       0         1   70   70               0         3               4   \n",
      "31       0         0   70   65               2         3               4   \n",
      "32       0         1   70   70               0         2               1   \n",
      "33       0         1   70   65               0         3               4   \n",
      "34       0         0   65   65               2         1               1   \n",
      "35       0         0   90   65               2         1               4   \n",
      "36       0         1   90   90               1         2               4   \n",
      "37       0         0   90   70               0         4               1   \n",
      "38       0         0   70   70               2         3               3   \n",
      "39       1         1   70   65               0         2               4   \n",
      "40       0         0   70   70               2         2               3   \n",
      "41       0         1   65   70               2         2               1   \n",
      "42       1         1   70   90               2         3               4   \n",
      "43       0         0   70   70               2         0               1   \n",
      "44       0         0   70   70               2         3               4   \n",
      "45       0         1   90   65               2         3               3   \n",
      "46       0         1   70   70               2         2               4   \n",
      "47       0         1   65   65               2         2               0   \n",
      "48       0         1   90   70               2         3               2   \n",
      "49       0         1   70   65               0         4               1   \n",
      "\n",
      "    attendance  self_study  GPA  \n",
      "0         90.5           8  3.3  \n",
      "1         70.5           8  3.3  \n",
      "2         70.5           8  3.3  \n",
      "3         90.5           3  3.8  \n",
      "4         90.5           3  3.3  \n",
      "5         90.5           3  3.3  \n",
      "6         70.5           3  2.0  \n",
      "7         50.5          13  2.0  \n",
      "8         70.5           3  2.7  \n",
      "9         90.5           8  2.7  \n",
      "10        90.5          15  3.8  \n",
      "11        90.5          13  3.8  \n",
      "12        90.5          15  3.8  \n",
      "13        90.5           8  3.3  \n",
      "14        90.5           3  3.3  \n",
      "15        90.5           3  3.8  \n",
      "16        90.5          15  3.8  \n",
      "17        90.5           3  3.3  \n",
      "18        90.5          13  2.7  \n",
      "19        70.5           8  2.7  \n",
      "20        70.5           3  2.7  \n",
      "21        70.5           8  3.3  \n",
      "22        90.5          13  3.3  \n",
      "23        70.5           3  3.3  \n",
      "24        50.5           3  3.3  \n",
      "25        70.5           8  2.0  \n",
      "26        70.5           8  2.7  \n",
      "27        70.5           8  3.8  \n",
      "28        70.5           8  3.8  \n",
      "29        70.5          15  3.3  \n",
      "30        90.5           8  3.8  \n",
      "31        90.5           8  3.3  \n",
      "32        70.5           8  3.3  \n",
      "33        70.5           8  3.3  \n",
      "34        90.5          13  2.0  \n",
      "35        90.5           3  3.8  \n",
      "36        90.5           3  3.3  \n",
      "37        90.5           3  3.3  \n",
      "38        70.5           3  2.0  \n",
      "39        50.5          13  2.0  \n",
      "40        70.5           3  2.7  \n",
      "41        90.5           8  2.0  \n",
      "42        90.5          15  3.8  \n",
      "43        90.5          13  3.8  \n",
      "44        90.5          15  3.8  \n",
      "45        90.5           8  3.3  \n",
      "46        90.5           3  3.3  \n",
      "47        90.5           3  3.8  \n",
      "48        90.5          15  3.8  \n",
      "49        90.5           3  3.3  \n"
     ]
    }
   ],
   "source": [
    "df=pd.read_csv('C:/Users/Vivek Vishan Jetani/Desktop/vivek.csv')\n",
    "print((df.head(50)))\n",
    "\n",
    "\n",
    "def handle_non_numerical_data(df):\n",
    "    columns=df.columns.values\n",
    "    \n",
    "    for column in columns:\n",
    "        text_digit_vals={}\n",
    "        def convert_to_int(val):\n",
    "            return text_digit_vals[val]\n",
    "        \n",
    "        if df[column].dtype !=np.int64 and df[column].dtype !=np.float64:\n",
    "            column_contents=df[column].values.tolist()\n",
    "            unique_elements=set(column_contents)\n",
    "            x=0\n",
    "\n",
    "            for unique in unique_elements:\n",
    "                if unique not in text_digit_vals:\n",
    "                    text_digit_vals[unique]=x\n",
    "                    x+=1\n",
    "            df[column]=list(map(convert_to_int, df[column]))\n",
    "    return df\n",
    "\n",
    "df=handle_non_numerical_data(df)\n",
    "print(df.head(50))\n"
   ]
  },
  {
   "cell_type": "code",
   "execution_count": 3,
   "metadata": {},
   "outputs": [],
   "source": [
    "X=df.iloc[:,0:9]\n",
    "y=df.iloc[:,9]\n",
    "X_train,X_test,y_train,y_test=train_test_split(X,y,random_state=0,test_size=0.1)"
   ]
  },
  {
   "cell_type": "code",
   "execution_count": 4,
   "metadata": {},
   "outputs": [],
   "source": [
    "sc_X=StandardScaler()\n",
    "X_train=sc_X.fit_transform(X_train)\n",
    "X_test=sc_X.transform(X_test)\n",
    "sc_y=StandardScaler()\n",
    "y_train=sc_y.fit_transform([y_train])"
   ]
  },
  {
   "cell_type": "code",
   "execution_count": 5,
   "metadata": {},
   "outputs": [
    {
     "data": {
      "text/plain": [
       "DecisionTreeRegressor(criterion='mse', max_depth=None, max_features=None,\n",
       "           max_leaf_nodes=None, min_impurity_decrease=0.0,\n",
       "           min_impurity_split=None, min_samples_leaf=1,\n",
       "           min_samples_split=2, min_weight_fraction_leaf=0.0,\n",
       "           presort=False, random_state=None, splitter='best')"
      ]
     },
     "execution_count": 5,
     "metadata": {},
     "output_type": "execute_result"
    }
   ],
   "source": [
    "Regressor=DecisionTreeRegressor()\n",
    "Regressor.fit(X,y)"
   ]
  },
  {
   "cell_type": "code",
   "execution_count": 6,
   "metadata": {},
   "outputs": [
    {
     "data": {
      "text/plain": [
       "array([2., 2., 2., 2., 2., 2., 2., 2., 2., 2., 2., 2., 2., 2., 2., 2., 2.,\n",
       "       2., 2., 2., 2., 2., 2., 2., 2., 2., 2., 2., 2., 2., 2., 2., 2., 2.,\n",
       "       2., 2.])"
      ]
     },
     "execution_count": 6,
     "metadata": {},
     "output_type": "execute_result"
    }
   ],
   "source": [
    "y_pred=Regressor.predict(X_test)\n",
    "y_pred"
   ]
  },
  {
   "cell_type": "code",
   "execution_count": 7,
   "metadata": {},
   "outputs": [
    {
     "data": {
      "text/plain": [
       "array([2.])"
      ]
     },
     "execution_count": 7,
     "metadata": {},
     "output_type": "execute_result"
    }
   ],
   "source": [
    "Regressor.predict([[0,0,65,65,0,0,0,30.5,3]])"
   ]
  },
  {
   "cell_type": "code",
   "execution_count": 8,
   "metadata": {},
   "outputs": [
    {
     "data": {
      "text/plain": [
       "90.55134023242584"
      ]
     },
     "execution_count": 8,
     "metadata": {},
     "output_type": "execute_result"
    }
   ],
   "source": [
    "Regressor.score(X,y)*100"
   ]
  },
  {
   "cell_type": "code",
   "execution_count": 9,
   "metadata": {},
   "outputs": [],
   "source": [
    "#d=pd.read_csv(\"Prediction.csv\")\n",
    "#d\n"
   ]
  },
  {
   "cell_type": "code",
   "execution_count": 10,
   "metadata": {},
   "outputs": [],
   "source": [
    "#p=Regressor.predict(d)\n",
    "#print(p)"
   ]
  },
  {
   "cell_type": "code",
   "execution_count": 11,
   "metadata": {},
   "outputs": [],
   "source": [
    "#d['Predicted_GPA']=p"
   ]
  },
  {
   "cell_type": "code",
   "execution_count": 12,
   "metadata": {},
   "outputs": [],
   "source": [
    "#d.to_csv(\"DTR_Prediction.csv\",index=False)"
   ]
  },
  {
   "cell_type": "code",
   "execution_count": 13,
   "metadata": {},
   "outputs": [],
   "source": [
    "#Regressor.score(X,y)*100"
   ]
  },
  {
   "cell_type": "code",
   "execution_count": null,
   "metadata": {},
   "outputs": [],
   "source": []
  },
  {
   "cell_type": "code",
   "execution_count": null,
   "metadata": {},
   "outputs": [],
   "source": []
  },
  {
   "cell_type": "code",
   "execution_count": null,
   "metadata": {},
   "outputs": [],
   "source": []
  },
  {
   "cell_type": "code",
   "execution_count": null,
   "metadata": {},
   "outputs": [],
   "source": []
  }
 ],
 "metadata": {
  "kernelspec": {
   "display_name": "Python 3",
   "language": "python",
   "name": "python3"
  },
  "language_info": {
   "codemirror_mode": {
    "name": "ipython",
    "version": 3
   },
   "file_extension": ".py",
   "mimetype": "text/x-python",
   "name": "python",
   "nbconvert_exporter": "python",
   "pygments_lexer": "ipython3",
   "version": "3.6.4"
  }
 },
 "nbformat": 4,
 "nbformat_minor": 2
}
