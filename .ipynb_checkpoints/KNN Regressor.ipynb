{
 "cells": [
  {
   "cell_type": "code",
   "execution_count": 1,
   "metadata": {},
   "outputs": [],
   "source": [
    "import pandas as pd \n",
    "import numpy as np\n",
    "\n",
    "from sklearn.model_selection import train_test_split\n",
    "from sklearn.preprocessing import StandardScaler\n",
    "from sklearn.neighbors import KNeighborsRegressor\n",
    "from sklearn.metrics import confusion_matrix\n",
    "from sklearn.metrics import f1_score\n",
    "from sklearn.metrics import accuracy_score"
   ]
  },
  {
   "cell_type": "code",
   "execution_count": 2,
   "metadata": {},
   "outputs": [
    {
     "name": "stdout",
     "output_type": "stream",
     "text": [
      "354\n",
      "   gender  Category  SSC  HSC  classification  resource  place_of_study  \\\n",
      "0       1         1   70   65               1         4               0   \n",
      "1       1         0   70   70               0         0               2   \n",
      "2       1         0   70   65               0         4               0   \n",
      "3       1         1   90   65               1         5               0   \n",
      "4       1         0   90   90               2         0               0   \n",
      "\n",
      "   attendance  self_study  GPA  \n",
      "0        90.5           8  3.3  \n",
      "1        70.5           8  3.3  \n",
      "2        70.5           8  3.3  \n",
      "3        90.5           3  3.8  \n",
      "4        90.5           3  3.3  \n"
     ]
    }
   ],
   "source": [
    "df=pd.read_csv('C:/Users/Vivek Vishan Jetani/Desktop/vivek.csv')\n",
    "print(len(df))\n",
    "def handle_non_numerical_data(df):\n",
    "    columns=df.columns.values\n",
    "    \n",
    "    for column in columns:\n",
    "        text_digit_vals={}\n",
    "        def convert_to_int(val):\n",
    "            return text_digit_vals[val]\n",
    "        \n",
    "        if df[column].dtype !=np.int64 and df[column].dtype !=np.float64:\n",
    "            column_contents=df[column].values.tolist()\n",
    "            unique_elements=set(column_contents)\n",
    "            x=0\n",
    "\n",
    "            for unique in unique_elements:\n",
    "                if unique not in text_digit_vals:\n",
    "                    text_digit_vals[unique]=x\n",
    "                    x+=1\n",
    "            df[column]=list(map(convert_to_int, df[column]))\n",
    "    return df\n",
    "df=handle_non_numerical_data(df)\n",
    "print(df.head())"
   ]
  },
  {
   "cell_type": "code",
   "execution_count": 3,
   "metadata": {},
   "outputs": [],
   "source": [
    "#zero_not_accepted=['gender','Category','SSC','HSC','classification','resource','place_of_study','attendance','self-study','GPA']\n",
    "#for column in zero_not_accepted:\n",
    "    #df[column]=df[column].replace[0,np.NaN]\n",
    "   # mean=int(df[column].mean(skipna=True))\n",
    "    #df[column]=df[column].replace(np.NaN,mean)"
   ]
  },
  {
   "cell_type": "code",
   "execution_count": 4,
   "metadata": {},
   "outputs": [],
   "source": [
    "X=df.iloc[:,0:9]\n",
    "y=df.iloc[:,9]\n",
    "X_train,X_test,y_train,y_test=train_test_split(X,y,random_state=0,test_size=0.3)"
   ]
  },
  {
   "cell_type": "code",
   "execution_count": 5,
   "metadata": {},
   "outputs": [],
   "source": [
    "sc_X=StandardScaler()\n",
    "X_train=sc_X.fit_transform(X_train)\n",
    "X_test=sc_X.transform(X_test)"
   ]
  },
  {
   "cell_type": "code",
   "execution_count": 6,
   "metadata": {},
   "outputs": [
    {
     "data": {
      "text/plain": [
       "10.344080432788601"
      ]
     },
     "execution_count": 6,
     "metadata": {},
     "output_type": "execute_result"
    }
   ],
   "source": [
    "import math\n",
    "math.sqrt(len(X_test))"
   ]
  },
  {
   "cell_type": "code",
   "execution_count": 7,
   "metadata": {},
   "outputs": [
    {
     "data": {
      "text/plain": [
       "KNeighborsRegressor(algorithm='auto', leaf_size=30, metric='euclidean',\n",
       "          metric_params=None, n_jobs=1, n_neighbors=9, p=2,\n",
       "          weights='uniform')"
      ]
     },
     "execution_count": 7,
     "metadata": {},
     "output_type": "execute_result"
    }
   ],
   "source": [
    "Regressor=KNeighborsRegressor(n_neighbors=9,p=2,metric='euclidean')\n",
    "Regressor.fit(X_train,y_train)"
   ]
  },
  {
   "cell_type": "code",
   "execution_count": 8,
   "metadata": {},
   "outputs": [
    {
     "data": {
      "text/plain": [
       "array([2.74444444, 3.25555556, 3.22222222, 3.74444444, 3.63333333,\n",
       "       3.41111111, 2.94444444, 3.57777778, 3.02222222, 3.37777778,\n",
       "       3.26666667, 3.14444444, 3.46666667, 3.57777778, 3.33333333,\n",
       "       2.94444444, 3.57777778, 2.6       , 3.13333333, 3.27777778,\n",
       "       2.94444444, 3.16666667, 3.28888889, 3.27777778, 2.95555556,\n",
       "       3.25555556, 3.52222222, 3.2       , 2.94444444, 3.57777778,\n",
       "       3.56666667, 3.12222222, 2.87777778, 3.28888889, 3.32222222,\n",
       "       3.51111111, 3.68888889, 3.68888889, 3.13333333, 3.51111111,\n",
       "       2.87777778, 3.42222222, 3.57777778, 3.37777778, 3.57777778,\n",
       "       2.81111111, 3.37777778, 3.06666667, 3.68888889, 3.68888889,\n",
       "       3.43333333, 3.43333333, 3.41111111, 3.08888889, 3.48888889,\n",
       "       3.21111111, 3.4       , 3.33333333, 3.07777778, 3.13333333,\n",
       "       3.68888889, 3.41111111, 2.86666667, 2.74444444, 2.94444444,\n",
       "       2.74444444, 3.57777778, 3.33333333, 3.33333333, 3.2       ,\n",
       "       3.06666667, 3.31111111, 3.27777778, 3.15555556, 2.82222222,\n",
       "       3.14444444, 3.44444444, 3.38888889, 2.94444444, 3.5       ,\n",
       "       3.03333333, 3.37777778, 3.13333333, 3.25555556, 3.1       ,\n",
       "       3.68888889, 3.32222222, 3.41111111, 3.63333333, 2.96666667,\n",
       "       3.74444444, 3.36666667, 3.05555556, 3.12222222, 3.26666667,\n",
       "       3.06666667, 3.35555556, 3.57777778, 3.5       , 2.96666667,\n",
       "       3.52222222, 2.81111111, 3.52222222, 3.57777778, 2.78888889,\n",
       "       3.14444444, 2.95555556])"
      ]
     },
     "execution_count": 8,
     "metadata": {},
     "output_type": "execute_result"
    }
   ],
   "source": [
    "y_pred=Regressor.predict(X_test)\n",
    "y_pred"
   ]
  },
  {
   "cell_type": "code",
   "execution_count": null,
   "metadata": {},
   "outputs": [],
   "source": []
  },
  {
   "cell_type": "code",
   "execution_count": 9,
   "metadata": {},
   "outputs": [
    {
     "data": {
      "text/plain": [
       "array([3.33333333])"
      ]
     },
     "execution_count": 9,
     "metadata": {},
     "output_type": "execute_result"
    }
   ],
   "source": [
    "Regressor.predict([[1,1,70,70,1,2,3,90.5,8]])"
   ]
  },
  {
   "cell_type": "code",
   "execution_count": 10,
   "metadata": {},
   "outputs": [
    {
     "data": {
      "text/plain": [
       "-0.04023580522341619"
      ]
     },
     "execution_count": 10,
     "metadata": {},
     "output_type": "execute_result"
    }
   ],
   "source": [
    "Regressor.score(X,y)"
   ]
  },
  {
   "cell_type": "code",
   "execution_count": null,
   "metadata": {},
   "outputs": [],
   "source": []
  },
  {
   "cell_type": "code",
   "execution_count": null,
   "metadata": {},
   "outputs": [],
   "source": []
  },
  {
   "cell_type": "code",
   "execution_count": null,
   "metadata": {},
   "outputs": [],
   "source": []
  }
 ],
 "metadata": {
  "kernelspec": {
   "display_name": "Python 3",
   "language": "python",
   "name": "python3"
  },
  "language_info": {
   "codemirror_mode": {
    "name": "ipython",
    "version": 3
   },
   "file_extension": ".py",
   "mimetype": "text/x-python",
   "name": "python",
   "nbconvert_exporter": "python",
   "pygments_lexer": "ipython3",
   "version": "3.6.4"
  }
 },
 "nbformat": 4,
 "nbformat_minor": 2
}
